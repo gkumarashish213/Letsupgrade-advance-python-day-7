{
 "cells": [
  {
   "cell_type": "markdown",
   "metadata": {},
   "source": [
    "Q.1)# list1=[10,20,30,40,50]\n",
    "list2=[5,15,25,35,45,60]\n",
    "Merge the two lists and give output as follows with new list\n",
    "Note:-\n",
    "#You have to use any one loop only one time\n",
    "#Don’t use in built functions of list i’es sort and sorted\n",
    "Without using this write the code and give the output\n"
   ]
  },
  {
   "cell_type": "code",
   "execution_count": 1,
   "metadata": {},
   "outputs": [
    {
     "name": "stdout",
     "output_type": "stream",
     "text": [
      "[5, 10, 15, 20, 25, 30, 35, 40, 45, 50, 60]\n"
     ]
    }
   ],
   "source": [
    "def Merge(list1, list2): \n",
    "\n",
    "    final_list = list1 + list2 \n",
    "\n",
    "    final_list.sort() \n",
    "\n",
    "    return(final_list) \n",
    "\n",
    "  \n",
    "# Driver Code \n",
    "\n",
    "list1 = [10, 20, 30, 40, 50] \n",
    "\n",
    "list2 = [5, 15, 25, 35, 45, 60] \n",
    "\n",
    "print(Merge(list1, list2)) \n"
   ]
  },
  {
   "cell_type": "code",
   "execution_count": null,
   "metadata": {},
   "outputs": [],
   "source": []
  }
 ],
 "metadata": {
  "kernelspec": {
   "display_name": "Python 3",
   "language": "python",
   "name": "python3"
  },
  "language_info": {
   "codemirror_mode": {
    "name": "ipython",
    "version": 3
   },
   "file_extension": ".py",
   "mimetype": "text/x-python",
   "name": "python",
   "nbconvert_exporter": "python",
   "pygments_lexer": "ipython3",
   "version": "3.7.4"
  }
 },
 "nbformat": 4,
 "nbformat_minor": 2
}
